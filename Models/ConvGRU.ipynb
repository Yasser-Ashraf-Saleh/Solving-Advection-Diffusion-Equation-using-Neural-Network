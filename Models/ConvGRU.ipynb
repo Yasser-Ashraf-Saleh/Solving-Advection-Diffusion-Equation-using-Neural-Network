{
 "cells": [
  {
   "cell_type": "code",
   "execution_count": 3,
   "metadata": {},
   "outputs": [
    {
     "name": "stdout",
     "output_type": "stream",
     "text": [
      "['project_5.ipynb', 'samples_2021.05.28.nc', 'project.ipynb', 'mnm.ipynb', 'samples_2021.05.29.nc', 'Data_v.npy', 'mm.ipynb', 'samples_2022.09.08.nc', 'samples_2022.06.22.nc', 'samples_2022.09.09.nc', 'samples_2022.06.21.nc', 'project_linear.ipynb', 'Outputs', 'Data_s.npy', 'Load_data.ipynb', 'project1.ipynb', 'Data_ss.npy', 'samples_2021.05.26.nc', 'project copy.ipynb', 'samples_2021.05.27.nc', 'project_3.ipynb', 'Outputs_learning curve.png', 'SINMOD.ipynb', 'samples_2022.05.04.nc', 'Data_u.npy', 'project_2.ipynb', 'samples_2022.05.11.nc', 'samples_2022.05.10.nc', 'lstm_model.pth']\n",
      "samples_2021.05.28.nc\n",
      "(144, 25, 119, 149)\n",
      "samples_2021.05.29.nc\n",
      "(144, 25, 119, 149)\n",
      "samples_2022.09.08.nc\n",
      "(144, 25, 119, 149)\n",
      "samples_2022.06.22.nc\n",
      "(72, 25, 119, 149)\n",
      "samples_2022.09.09.nc\n",
      "(144, 25, 119, 149)\n",
      "samples_2022.06.21.nc\n",
      "(144, 25, 119, 149)\n",
      "samples_2021.05.26.nc\n",
      "(144, 25, 119, 149)\n",
      "samples_2021.05.27.nc\n",
      "(144, 25, 119, 149)\n",
      "samples_2022.05.04.nc\n",
      "(144, 25, 119, 149)\n",
      "samples_2022.05.11.nc\n",
      "(120, 25, 119, 149)\n",
      "samples_2022.05.10.nc\n",
      "(113, 25, 119, 149)\n"
     ]
    }
   ],
   "source": [
    "import os\n",
    "import netCDF4\n",
    "import numpy as np\n",
    "from matplotlib import pyplot as plt\n",
    "\n",
    "folder_path = '/home/yasser.attia/Templates/inference/'\n",
    "\n",
    "# Get a list of file names within the folder\n",
    "file_names = os.listdir(folder_path)\n",
    "print(file_names)\n",
    "\n",
    "i=0\n",
    "for file_name in file_names:\n",
    "    if '.nc' in file_name:\n",
    "        print(file_name)\n",
    "        sinmod = netCDF4.Dataset(folder_path+file_name)\n",
    "        salinity = np.array(sinmod['salinity'])\n",
    "        u = np.array(sinmod['u_east'])\n",
    "        v = np.array(sinmod['v_north'])\n",
    "        s0=salinity.shape[0]\n",
    "        s1=salinity.shape[1]\n",
    "        for idx1 in range(s0):\n",
    "            for idx2 in range(s1):\n",
    "                salinity[idx1,idx2,:,:]= np.clip(salinity[idx1,idx2,:,:],-10,30)\n",
    "\n",
    "        for idx1 in range(s0):\n",
    "            for idx2 in range(s1):\n",
    "                u[idx1,idx2,:,:]= np.clip(u[idx1,idx2,:,:],-2,2)\n",
    "        for idx1 in range(s0):\n",
    "            for idx2 in range(s1):\n",
    "                v[idx1,idx2,:,:]= np.clip(u[idx1,idx2,:,:],-2,2)\n",
    "        if i==0:\n",
    "            i=i+1\n",
    "            Data_s=salinity[0:s0-1]\n",
    "            Data_ss=salinity[1:s0]\n",
    "            Data_u=u[0:s0-1]\n",
    "            Data_v=v[0:s0-1]\n",
    "\n",
    "        else:\n",
    "            Data_s=np.concatenate((Data_s,salinity[0:s0-1]),axis=0)\n",
    "            Data_ss=np.concatenate((Data_ss,salinity[1:s0]),axis=0)\n",
    "            Data_u=np.concatenate((Data_u,u[0:s0-1]),axis=0)\n",
    "            Data_v=np.concatenate((Data_v,v[0:s0-1]),axis=0)\n",
    "\n",
    "        print(salinity.shape)\n",
    "\n"
   ]
  },
  {
   "cell_type": "code",
   "execution_count": 4,
   "metadata": {},
   "outputs": [],
   "source": [
    "Data_s=Data_s.reshape(-1,1,119,149)\n",
    "Data_ss=Data_ss.reshape(-1,1,119,149)\n",
    "Data_u=Data_u.reshape(-1,1,119,149)\n",
    "Data_v=Data_v.reshape(-1,1,119,149)"
   ]
  },
  {
   "cell_type": "code",
   "execution_count": 5,
   "metadata": {},
   "outputs": [
    {
     "data": {
      "text/plain": [
       "(36150, 1, 119, 149)"
      ]
     },
     "execution_count": 5,
     "metadata": {},
     "output_type": "execute_result"
    }
   ],
   "source": [
    "Data_s.shape"
   ]
  },
  {
   "cell_type": "code",
   "execution_count": 6,
   "metadata": {},
   "outputs": [],
   "source": [
    "Data_s=Data_s[0:25000,:,:,:]\n",
    "Data_ss=Data_ss[0:25000,:,:,:]\n",
    "Data_u=Data_u[0:25000,:,:,:]\n",
    "Data_v=Data_v[0:25000,:,:,:]"
   ]
  },
  {
   "cell_type": "code",
   "execution_count": 7,
   "metadata": {},
   "outputs": [
    {
     "data": {
      "text/plain": [
       "device(type='cuda')"
      ]
     },
     "execution_count": 7,
     "metadata": {},
     "output_type": "execute_result"
    }
   ],
   "source": [
    "from torch.utils.data import DataLoader, TensorDataset, random_split, ConcatDataset\n",
    "import torch\n",
    "import numpy as np\n",
    "\n",
    "device = torch.device(\"cuda\" if torch.cuda.is_available() else \"cpu\")\n",
    "device"
   ]
  },
  {
   "cell_type": "code",
   "execution_count": 8,
   "metadata": {},
   "outputs": [],
   "source": [
    "all_segments=torch.tensor(np.concatenate((Data_s,Data_u,Data_v),axis=1), dtype=torch.float)\n",
    "all_labels = torch.tensor(Data_ss, dtype=torch.float)\n",
    "combined_dataset = TensorDataset(all_segments, all_labels)\n",
    "k_folds = 5\n",
    "fold_size = len(combined_dataset) // k_folds"
   ]
  },
  {
   "cell_type": "code",
   "execution_count": 9,
   "metadata": {},
   "outputs": [],
   "source": [
    "import torch\n",
    "import torch.nn as nn\n",
    "\n",
    "class ConvGRUCell(nn.Module):\n",
    "    def __init__(self, input_dim, hidden_dim, kernel_size, bias=True):\n",
    "        super(ConvGRUCell, self).__init__()\n",
    "        self.input_dim = input_dim\n",
    "        self.hidden_dim = hidden_dim\n",
    "        self.kernel_size = kernel_size\n",
    "        self.bias = bias\n",
    "        self.padding = (kernel_size[0] // 2, kernel_size[1] // 2)\n",
    "        \n",
    "        self.conv = nn.Conv2d(in_channels=input_dim + hidden_dim,\n",
    "                              out_channels=2 * hidden_dim,  \n",
    "                              kernel_size=self.kernel_size,\n",
    "                              padding=self.padding,\n",
    "                              bias=self.bias)\n",
    "        self.conv_candidate = nn.Conv2d(in_channels=input_dim + hidden_dim,\n",
    "                                        out_channels=hidden_dim,  \n",
    "                                        kernel_size=self.kernel_size,\n",
    "                                        padding=self.padding,\n",
    "                                        bias=self.bias)\n",
    "\n",
    "    def forward(self, input_tensor, h_cur):\n",
    "        combined = torch.cat([input_tensor, h_cur], dim=1)\n",
    "        gates = self.conv(combined)\n",
    "        r_gate, z_gate = torch.split(gates, self.hidden_dim, dim=1)\n",
    "        r = torch.sigmoid(r_gate)\n",
    "        z = torch.sigmoid(z_gate)\n",
    "        \n",
    "        combined_candidate = torch.cat([input_tensor, r * h_cur], dim=1)\n",
    "        h_tilde = torch.tanh(self.conv_candidate(combined_candidate))\n",
    "        h_next = (1 - z) * h_tilde + z * h_cur\n",
    "        \n",
    "        return h_next\n",
    "\n",
    "    def init_hidden(self, batch_size, image_size):\n",
    "        height, width = image_size\n",
    "        return torch.zeros(batch_size, self.hidden_dim, height, width, device=self.conv.weight.device)\n",
    "\n",
    "class ConvGRU(nn.Module):\n",
    "    def __init__(self, input_dim, hidden_dim, kernel_size, num_layers, bias=True):\n",
    "        super(ConvGRU, self).__init__()\n",
    "        self.input_dim = input_dim\n",
    "        self.hidden_dim = hidden_dim\n",
    "        self.kernel_size = kernel_size\n",
    "        self.num_layers = num_layers\n",
    "        self.bias = bias\n",
    "        \n",
    "        self.layers = nn.ModuleList([ConvGRUCell(input_dim, hidden_dim, kernel_size, bias) for _ in range(num_layers)])\n",
    "\n",
    "        self.encoder = nn.Sequential(\n",
    "            nn.Conv2d(in_channels=3, out_channels=64, kernel_size=3, padding=1),\n",
    "            nn.ReLU(),\n",
    "            nn.Conv2d(in_channels=64, out_channels=input_dim, kernel_size=3, padding=1),\n",
    "            nn.ReLU(),\n",
    "        )\n",
    "        \n",
    "        self.decoder = nn.Sequential(\n",
    "            nn.ConvTranspose2d(in_channels=hidden_dim, out_channels=64, kernel_size=3, padding=1),\n",
    "            nn.ReLU(),\n",
    "            nn.ConvTranspose2d(in_channels=64, out_channels=1, kernel_size=3, padding=1),\n",
    "        )\n",
    "    \n",
    "    def forward(self, x):\n",
    "        batch_size, channels, height, width = x.shape\n",
    "        \n",
    "        # Pass the input through the encoder\n",
    "        encoded_x = self.encoder(x)\n",
    "        \n",
    "        hidden = self.layers[0].init_hidden(batch_size, (height, width))\n",
    "        for layer in self.layers:\n",
    "            hidden = layer(encoded_x, hidden)\n",
    "\n",
    "        # Decode the output\n",
    "        decoded = self.decoder(hidden)\n",
    "        return decoded\n",
    "\n"
   ]
  },
  {
   "cell_type": "code",
   "execution_count": 10,
   "metadata": {},
   "outputs": [],
   "source": [
    "import torch\n",
    "from torch.utils.data import DataLoader, TensorDataset, random_split\n",
    "import torch.nn as nn\n",
    "import torch.optim as optim\n",
    "\n",
    "\n",
    "device = torch.device(\"cuda\" if torch.cuda.is_available() else \"cpu\")\n",
    "\n",
    "# Parameters\n",
    "time_steps = 1\n",
    "channels = 3\n",
    "height = 119\n",
    "width = 149\n",
    "batch_size = 64\n",
    "num_epochs = 25\n",
    "\n",
    "\n",
    "num_samples = len(all_segments)\n",
    "train_size = int(0.8 * num_samples)\n",
    "val_size = num_samples - train_size\n",
    "\n",
    "train_dataset, val_dataset = random_split(TensorDataset(all_segments, all_labels), [train_size, val_size])\n",
    "\n",
    "train_loader = DataLoader(train_dataset, batch_size=batch_size, shuffle=True)\n",
    "val_loader = DataLoader(val_dataset, batch_size=batch_size, shuffle=False)"
   ]
  },
  {
   "cell_type": "code",
   "execution_count": 28,
   "metadata": {},
   "outputs": [
    {
     "data": {
      "text/plain": [
       "156996"
      ]
     },
     "execution_count": 28,
     "metadata": {},
     "output_type": "execute_result"
    }
   ],
   "source": [
    "model = ConvGRU(input_dim=channels, hidden_dim=64, kernel_size=(3, 3), num_layers=1).to(device)\n",
    "model.load_state_dict(torch.load(\"/home/yasser.attia/Templates/inf/grn_model_30.pth\"))\n",
    "total_params = sum(p.numel() for p in model.parameters() if p.requires_grad)\n",
    "total_params"
   ]
  },
  {
   "cell_type": "code",
   "execution_count": null,
   "metadata": {},
   "outputs": [],
   "source": [
    "# Model Configuration\n",
    "criterion = nn.MSELoss()\n",
    "optimizer = optim.Adam(model.parameters(), lr=0.00001)\n",
    "\n",
    "# Training Loop\n",
    "for epoch in range(5):\n",
    "    model.train()\n",
    "\n",
    "    running_loss = 0.0\n",
    "    for i, data in enumerate(train_loader, 0):\n",
    "        sequences, labels = data\n",
    "        sequences = sequences.to(device)\n",
    "        labels = labels.to(device)\n",
    "        #sequences=sequences[:,0:1,:,:,:]\n",
    "        #print(sequences.shape)\n",
    "\n",
    "        optimizer.zero_grad()\n",
    "        outputs = model(sequences)\n",
    "        #print(outputs.shape)\n",
    "        loss = criterion(outputs, labels)\n",
    "        loss.backward()\n",
    "        optimizer.step()\n",
    "\n",
    "        running_loss += loss.item()\n",
    "        if i % 10 == 9:  # print every 10 mini-batches\n",
    "            print(f'Epoch {epoch + 1}, Batch {i + 1}, Loss: {running_loss / 10:.3f}')\n",
    "            running_loss = 0.0\n",
    "\n",
    "    # Validation Loop\n",
    "    model.eval()\n",
    "    with torch.no_grad():\n",
    "        val_loss = 0.0\n",
    "        for data in val_loader:\n",
    "            sequences, labels = data\n",
    "            sequences = sequences.to(device)\n",
    "            labels = labels.to(device)\n",
    "\n",
    "            outputs = model(sequences)\n",
    "            loss = criterion(outputs, labels)\n",
    "            val_loss += loss.item()\n",
    "\n",
    "        print(f'Validation Loss: {val_loss / len(val_loader):.3f}')\n",
    "\n",
    "print('Finished Training')\n"
   ]
  },
  {
   "cell_type": "code",
   "execution_count": null,
   "metadata": {},
   "outputs": [],
   "source": [
    "model.eval()\n",
    "outs=[]\n",
    "labs=[]\n",
    "los=[]\n",
    "LOSS_tot=0\n",
    "for i in range(sequences.shape[0]):\n",
    "        seq=sequences[i:i+1,:,:,:]\n",
    "        lab=labels[i:i+1,:,:]\n",
    "        seq = seq.to(device)\n",
    "        lab = lab.to(device)\n",
    "        #outputs, _ = model(seq)\n",
    "        \n",
    "        if i==0:\n",
    "                outputs= model(seq)\n",
    "        else:\n",
    "                seq[:,0,:,:]=outputs\n",
    "                outputs= model(seq)\n",
    "        loss = criterion(outputs, lab)\n",
    "        outs.append(outputs)\n",
    "        labs.append(lab)\n",
    "\n",
    "        LOSS_tot+=loss.item()\n",
    "        los.append(LOSS_tot/(i+1))\n",
    "        print(LOSS_tot/(i+1))"
   ]
  },
  {
   "cell_type": "code",
   "execution_count": 33,
   "metadata": {},
   "outputs": [
    {
     "data": {
      "image/png": "[encoded data removed]",
      "text/plain": [
       "<Figure size 1000x600 with 1 Axes>"
      ]
     },
     "metadata": {},
     "output_type": "display_data"
    }
   ],
   "source": [
    "time_steps = range(len(los))\n",
    "\n",
    "# Plot the loss values over time\n",
    "plt.figure(figsize=(10, 6))\n",
    "plt.plot(time_steps, los, marker='o', linestyle='-', color='b')\n",
    "plt.xlabel(\"Time Step\")\n",
    "plt.ylabel(\"MSE Loss\")\n",
    "plt.title(\"Performance on future predictions\")\n",
    "plt.grid(True)\n",
    "plt.show()"
   ]
  }
 ],
 "metadata": {
  "kernelspec": {
   "display_name": "base",
   "language": "python",
   "name": "python3"
  },
  "language_info": {
   "codemirror_mode": {
    "name": "ipython",
    "version": 3
   },
   "file_extension": ".py",
   "mimetype": "text/x-python",
   "name": "python",
   "nbconvert_exporter": "python",
   "pygments_lexer": "ipython3",
   "version": "3.10.13"
  },
  "orig_nbformat": 4
 },
 "nbformat": 4,
 "nbformat_minor": 2
}
